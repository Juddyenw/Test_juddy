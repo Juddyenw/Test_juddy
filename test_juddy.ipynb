{
 "cells": [
  {
   "cell_type": "code",
   "execution_count": 1,
   "metadata": {},
   "outputs": [],
   "source": [
    "## Import Libraries for processing the data\n",
    "import pandas as pd\n",
    "import numpy as np"
   ]
  },
  {
   "cell_type": "code",
   "execution_count": 2,
   "metadata": {},
   "outputs": [],
   "source": [
    "## Read Excel file\n",
    "with pd.ExcelFile(\"Test Data_wambui.xlsx\") as file:\n",
    "    # Read sheet with incomplete data\n",
    "    Python_deal_data_incomplete_df = pd.read_excel(file,sheet_name=\"Python_deal data_incomplete\")\n",
    "    \n",
    "    #Rean sheet with complete data\n",
    "    SQL_deal_data_df = pd.read_excel(file,sheet_name=\"SQL_deal data\")\n"
   ]
  },
  {
   "cell_type": "code",
   "execution_count": 3,
   "metadata": {},
   "outputs": [
    {
     "name": "stdout",
     "output_type": "stream",
     "text": [
      "==== Incomplete Dataframe ====\n",
      "   deal_id      company_name deal_stage deal_value  deal_date\n",
      "0     1001        Alpha Corp       Seed     500000 2024-07-01\n",
      "1     1002          Beta Ltd   Series A       Seed 2024-02-01\n",
      "2     1003        Beta L.T.D   Series B    3000000 2024-07-01\n",
      "3     1004    Delta Partners   series-a     400000 2024-06-01\n",
      "4     1005  Epsilon Ventures  Incubator       7000 2024-05-01\n",
      "5     1006        Alpha Corp       Seed     500000 2024-07-01\n",
      "==== Incomplete Dataframe ====\n",
      "   deal_id      company_name deal_stage  deal_value  deal_date\n",
      "0     1001        Alpha Corp       Seed      500000 2024-07-01\n",
      "1     1002          Beta Ltd   Series A      200000 2024-02-01\n",
      "2     1003          Beta Ltd   Series B     3000000 2024-01-01\n",
      "3     1004    Delta Partners   Series A      400000 2024-06-01\n",
      "4     1005  Epsilon Ventures  Incubator        7000 2024-05-01\n"
     ]
    }
   ],
   "source": [
    "## Display both dataframe to the console\n",
    "print(\"==== Incomplete Dataframe ====\")\n",
    "print(Python_deal_data_incomplete_df)\n",
    "print(\"==== Incomplete Dataframe ====\")\n",
    "print(SQL_deal_data_df)"
   ]
  },
  {
   "cell_type": "code",
   "execution_count": 4,
   "metadata": {},
   "outputs": [
    {
     "data": {
      "text/plain": [
       "deal_id                  int64\n",
       "company_name            object\n",
       "deal_stage              object\n",
       "deal_value              object\n",
       "deal_date       datetime64[ns]\n",
       "dtype: object"
      ]
     },
     "execution_count": 4,
     "metadata": {},
     "output_type": "execute_result"
    }
   ],
   "source": [
    "## check data type in each column\n",
    "Python_deal_data_incomplete_df.dtypes"
   ]
  },
  {
   "cell_type": "code",
   "execution_count": 5,
   "metadata": {},
   "outputs": [
    {
     "data": {
      "text/plain": [
       "deal_id                  int64\n",
       "company_name            object\n",
       "deal_stage              object\n",
       "deal_value               int64\n",
       "deal_date       datetime64[ns]\n",
       "dtype: object"
      ]
     },
     "execution_count": 5,
     "metadata": {},
     "output_type": "execute_result"
    }
   ],
   "source": [
    "## check data type in each column\n",
    "SQL_deal_data_df.dtypes"
   ]
  },
  {
   "cell_type": "markdown",
   "metadata": {},
   "source": [
    "#### 1. Python script Identify variables that need cleaning"
   ]
  },
  {
   "cell_type": "code",
   "execution_count": 6,
   "metadata": {},
   "outputs": [],
   "source": [
    "# define a function to return the column to be cleaned\n",
    "def get_columns_to_clean(incorrect_df,correct_df):\n",
    "\n",
    "    column_to_be_cleaned = []\n",
    "\n",
    "    for col_incorrect_df,col_correct_df in zip(list(incorrect_df.columns),list(correct_df.columns)):\n",
    "        # check if there is any column with missing values\n",
    "        if incorrect_df[col_incorrect_df].isnull().any():\n",
    "            # append the column within the list of columns te corrected\n",
    "            column_to_be_cleaned.append(f'{col_incorrect_df}: has missing values')\n",
    "\n",
    "        ## check the wrong data type by comparing data type between two columns\n",
    "        if not incorrect_df[col_incorrect_df].dtype == correct_df[col_correct_df].dtype:\n",
    "            column_to_be_cleaned.append(f'{col_incorrect_df}: has wrong data type, the correct type should:{correct_df[col_correct_df].dtype}')\n",
    "\n",
    "        # Checck column with standardization issues\n",
    "        # correct unique values from correct df\n",
    "        if col_incorrect_df != \"deal_id\":\n",
    "            correct_values = [str(val).strip() for val in  list(correct_df[col_correct_df])]\n",
    "            incorrect_values = [str(val).strip() for val in  list(incorrect_df[col_incorrect_df].unique())]\n",
    "\n",
    "            if not pd.Series(incorrect_values).isin(correct_values).all():\n",
    "                column_to_be_cleaned.append(f'{col_incorrect_df}: has standardization issue')      \n",
    "    return column_to_be_cleaned\n",
    "\n"
   ]
  },
  {
   "cell_type": "code",
   "execution_count": 7,
   "metadata": {},
   "outputs": [
    {
     "name": "stdout",
     "output_type": "stream",
     "text": [
      "['company_name: has standardization issue', 'deal_stage: has standardization issue', 'deal_value: has wrong data type, the correct type should:int64', 'deal_value: has standardization issue']\n"
     ]
    }
   ],
   "source": [
    "## Invoke the functions to displaying columns to be cleaned, the script will print also custom message higligh the issue type\n",
    "print(get_columns_to_clean(Python_deal_data_incomplete_df,SQL_deal_data_df))"
   ]
  },
  {
   "cell_type": "markdown",
   "metadata": {},
   "source": [
    "#### 2. Clean the deal_date variable"
   ]
  },
  {
   "cell_type": "code",
   "execution_count": null,
   "metadata": {},
   "outputs": [],
   "source": [
    "## Define python to clean deal_date column\n",
    "def clean_date(date):\n",
    "    try:\n",
    "        # Attempt to parse using the specified format\n",
    "        parsed_date = pd.to_datetime(date, errors='coerce', format=\"%m/%Y\")\n",
    "    except:\n",
    "        # Handle non-standard formats\n",
    "        parsed_date = pd.to_datetime(date, errors='coerce')\n",
    "    \n",
    "    # Return the date as a formatted string if valid, otherwise None\n",
    "    return parsed_date.strftime(\"%m/%Y\") if pd.notna(parsed_date) else None\n",
    "\n",
    "\n",
    "# Call the function for cleanind deal_date\n",
    "Python_deal_data_incomplete_df['deal_date'] = Python_deal_data_incomplete_df['deal_date'].apply(clean_date)"
   ]
  },
  {
   "cell_type": "code",
   "execution_count": 9,
   "metadata": {},
   "outputs": [
    {
     "data": {
      "text/plain": [
       "0    07/2024\n",
       "1    02/2024\n",
       "2    07/2024\n",
       "3    06/2024\n",
       "4    05/2024\n",
       "5    07/2024\n",
       "Name: deal_date, dtype: object"
      ]
     },
     "execution_count": 9,
     "metadata": {},
     "output_type": "execute_result"
    }
   ],
   "source": [
    "## check the values in deal_date after cleaning\n",
    "Python_deal_data_incomplete_df['deal_date']"
   ]
  },
  {
   "cell_type": "markdown",
   "metadata": {},
   "source": [
    "#### 3. Remove duplicates"
   ]
  },
  {
   "cell_type": "code",
   "execution_count": null,
   "metadata": {},
   "outputs": [
    {
     "data": {
      "text/html": [
       "<div>\n",
       "<style scoped>\n",
       "    .dataframe tbody tr th:only-of-type {\n",
       "        vertical-align: middle;\n",
       "    }\n",
       "\n",
       "    .dataframe tbody tr th {\n",
       "        vertical-align: top;\n",
       "    }\n",
       "\n",
       "    .dataframe thead th {\n",
       "        text-align: right;\n",
       "    }\n",
       "</style>\n",
       "<table border=\"1\" class=\"dataframe\">\n",
       "  <thead>\n",
       "    <tr style=\"text-align: right;\">\n",
       "      <th></th>\n",
       "      <th>deal_id</th>\n",
       "      <th>company_name</th>\n",
       "      <th>deal_stage</th>\n",
       "      <th>deal_value</th>\n",
       "      <th>deal_date</th>\n",
       "    </tr>\n",
       "  </thead>\n",
       "  <tbody>\n",
       "    <tr>\n",
       "      <th>0</th>\n",
       "      <td>1001</td>\n",
       "      <td>Alpha Corp</td>\n",
       "      <td>Seed</td>\n",
       "      <td>500000</td>\n",
       "      <td>07/2024</td>\n",
       "    </tr>\n",
       "    <tr>\n",
       "      <th>5</th>\n",
       "      <td>1006</td>\n",
       "      <td>Alpha Corp</td>\n",
       "      <td>Seed</td>\n",
       "      <td>500000</td>\n",
       "      <td>07/2024</td>\n",
       "    </tr>\n",
       "  </tbody>\n",
       "</table>\n",
       "</div>"
      ],
      "text/plain": [
       "   deal_id company_name deal_stage deal_value deal_date\n",
       "0     1001   Alpha Corp       Seed     500000   07/2024\n",
       "5     1006   Alpha Corp       Seed     500000   07/2024"
      ]
     },
     "execution_count": 20,
     "metadata": {},
     "output_type": "execute_result"
    }
   ],
   "source": [
    "## check duplicate based by combining variables which are 'company_name', 'deal_stage', 'deal_value', 'deal_date'\n",
    "Python_deal_data_incomplete_df[Python_deal_data_incomplete_df.duplicated(subset=['company_name', 'deal_stage', 'deal_value', 'deal_date'],keep=False)]"
   ]
  },
  {
   "cell_type": "code",
   "execution_count": null,
   "metadata": {},
   "outputs": [
    {
     "data": {
      "text/html": [
       "<div>\n",
       "<style scoped>\n",
       "    .dataframe tbody tr th:only-of-type {\n",
       "        vertical-align: middle;\n",
       "    }\n",
       "\n",
       "    .dataframe tbody tr th {\n",
       "        vertical-align: top;\n",
       "    }\n",
       "\n",
       "    .dataframe thead th {\n",
       "        text-align: right;\n",
       "    }\n",
       "</style>\n",
       "<table border=\"1\" class=\"dataframe\">\n",
       "  <thead>\n",
       "    <tr style=\"text-align: right;\">\n",
       "      <th></th>\n",
       "      <th>deal_id</th>\n",
       "      <th>company_name</th>\n",
       "      <th>deal_stage</th>\n",
       "      <th>deal_value</th>\n",
       "      <th>deal_date</th>\n",
       "    </tr>\n",
       "  </thead>\n",
       "  <tbody>\n",
       "    <tr>\n",
       "      <th>0</th>\n",
       "      <td>1001</td>\n",
       "      <td>Alpha Corp</td>\n",
       "      <td>Seed</td>\n",
       "      <td>500000</td>\n",
       "      <td>07/2024</td>\n",
       "    </tr>\n",
       "    <tr>\n",
       "      <th>1</th>\n",
       "      <td>1002</td>\n",
       "      <td>Beta Ltd</td>\n",
       "      <td>Series A</td>\n",
       "      <td>Seed</td>\n",
       "      <td>02/2024</td>\n",
       "    </tr>\n",
       "    <tr>\n",
       "      <th>2</th>\n",
       "      <td>1003</td>\n",
       "      <td>Beta L.T.D</td>\n",
       "      <td>Series B</td>\n",
       "      <td>3000000</td>\n",
       "      <td>07/2024</td>\n",
       "    </tr>\n",
       "    <tr>\n",
       "      <th>3</th>\n",
       "      <td>1004</td>\n",
       "      <td>Delta Partners</td>\n",
       "      <td>series-a</td>\n",
       "      <td>400000</td>\n",
       "      <td>06/2024</td>\n",
       "    </tr>\n",
       "    <tr>\n",
       "      <th>4</th>\n",
       "      <td>1005</td>\n",
       "      <td>Epsilon Ventures</td>\n",
       "      <td>Incubator</td>\n",
       "      <td>7000</td>\n",
       "      <td>05/2024</td>\n",
       "    </tr>\n",
       "  </tbody>\n",
       "</table>\n",
       "</div>"
      ],
      "text/plain": [
       "   deal_id      company_name deal_stage deal_value deal_date\n",
       "0     1001        Alpha Corp       Seed     500000   07/2024\n",
       "1     1002          Beta Ltd   Series A       Seed   02/2024\n",
       "2     1003        Beta L.T.D   Series B    3000000   07/2024\n",
       "3     1004    Delta Partners   series-a     400000   06/2024\n",
       "4     1005  Epsilon Ventures  Incubator       7000   05/2024"
      ]
     },
     "execution_count": 24,
     "metadata": {},
     "output_type": "execute_result"
    }
   ],
   "source": [
    "## It seems like we have two duplicate entries\n",
    "# keep the first\n",
    "Python_deal_data_incomplete_df = Python_deal_data_incomplete_df.drop_duplicates(subset=['company_name', 'deal_stage', 'deal_value', 'deal_date'],keep='first')\n",
    "\n",
    "## Display the dataframe after removing duplicate\n",
    "Python_deal_data_incomplete_df"
   ]
  },
  {
   "cell_type": "markdown",
   "metadata": {},
   "source": [
    "#### 4. Create a new variable called “latest_deal_stage” to show the latest deal by date"
   ]
  },
  {
   "cell_type": "code",
   "execution_count": null,
   "metadata": {},
   "outputs": [
    {
     "data": {
      "text/plain": [
       "'07/2024'"
      ]
     },
     "execution_count": 18,
     "metadata": {},
     "output_type": "execute_result"
    }
   ],
   "source": [
    "## Create a function to show the latest deal\n",
    "def get_python_date_value(date):\n",
    "    # convert date string into python date object\n",
    "     # Attempt to parse using the specified format\n",
    "    parsed_date = pd.to_datetime(date, errors='coerce', format=\"%m/%Y\")\n",
    "    return parsed_date\n",
    "\n",
    "#get the latest date python object\n",
    "latest_deal_date = max(list(Python_deal_data_incomplete_df['deal_date'].apply(get_python_date_value)))\n",
    "\n",
    "## convert value back to a date string to standardize the value from use case\n",
    "latest_deal_stage = latest_deal_date.strftime(\"%m/%Y\")\n",
    "latest_deal_stage\n"
   ]
  }
 ],
 "metadata": {
  "kernelspec": {
   "display_name": "jypter-env",
   "language": "python",
   "name": "python3"
  },
  "language_info": {
   "codemirror_mode": {
    "name": "ipython",
    "version": 3
   },
   "file_extension": ".py",
   "mimetype": "text/x-python",
   "name": "python",
   "nbconvert_exporter": "python",
   "pygments_lexer": "ipython3",
   "version": "3.11.5"
  }
 },
 "nbformat": 4,
 "nbformat_minor": 2
}
